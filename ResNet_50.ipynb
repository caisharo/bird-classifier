{
  "nbformat": 4,
  "nbformat_minor": 0,
  "metadata": {
    "colab": {
      "name": "ResNet-50.ipynb",
      "provenance": [],
      "collapsed_sections": [],
      "toc_visible": true
    },
    "kernelspec": {
      "name": "python3",
      "display_name": "Python 3"
    },
    "accelerator": "GPU"
  },
  "cells": [
    {
      "cell_type": "markdown",
      "metadata": {
        "id": "J6Sww75LGYWW"
      },
      "source": [
        "# Bird Classifier"
      ]
    },
    {
      "cell_type": "markdown",
      "metadata": {
        "id": "DOwYvpRHGjKj"
      },
      "source": [
        "Setup."
      ]
    },
    {
      "cell_type": "code",
      "metadata": {
        "colab": {
          "base_uri": "https://localhost:8080/"
        },
        "id": "yRzPDiVzsyGz",
        "outputId": "a23d7381-bf63-4b2a-aec7-ecc20df10f7e"
      },
      "source": [
        "import numpy as np\n",
        "import matplotlib.pyplot as plt\n",
        "\n",
        "import torch\n",
        "import torchvision\n",
        "import torchvision.transforms as transforms\n",
        "import torch.nn as nn\n",
        "import torch.nn.functional as F\n",
        "import torch.optim as optim\n",
        "\n",
        "device = torch.device(\"cuda:0\" if torch.cuda.is_available() else \"cpu\")\n",
        "print(device)"
      ],
      "execution_count": null,
      "outputs": [
        {
          "output_type": "stream",
          "text": [
            "cuda:0\n"
          ],
          "name": "stdout"
        }
      ]
    },
    {
      "cell_type": "code",
      "metadata": {
        "colab": {
          "base_uri": "https://localhost:8080/"
        },
        "id": "SGE--eZee3F2",
        "outputId": "687e86e5-f381-4538-e26b-2164da236900"
      },
      "source": [
        "from google.colab import drive\n",
        "drive.mount('/content/drive')"
      ],
      "execution_count": null,
      "outputs": [
        {
          "output_type": "stream",
          "text": [
            "Drive already mounted at /content/drive; to attempt to forcibly remount, call drive.mount(\"/content/drive\", force_remount=True).\n"
          ],
          "name": "stdout"
        }
      ]
    },
    {
      "cell_type": "code",
      "metadata": {
        "colab": {
          "base_uri": "https://localhost:8080/"
        },
        "id": "zS5Ch2HbC6Gb",
        "outputId": "9ce99e15-db4b-4549-a15f-3561447671aa"
      },
      "source": [
        "import os\n",
        "from google.colab import drive\n",
        "drive.mount('/content/drive')\n",
        "checkpoints = '/content/drive/MyDrive/colab_files/birds/'\n",
        "if not os.path.exists(checkpoints):\n",
        "    os.makedirs(checkpoints)"
      ],
      "execution_count": null,
      "outputs": [
        {
          "output_type": "stream",
          "text": [
            "Drive already mounted at /content/drive; to attempt to forcibly remount, call drive.mount(\"/content/drive\", force_remount=True).\n"
          ],
          "name": "stdout"
        }
      ]
    },
    {
      "cell_type": "code",
      "metadata": {
        "id": "fYJ6ZE1CuGth"
      },
      "source": [
        "import os\n",
        "if not os.path.exists('birds21sp'):\n",
        "    !mkdir birds21sp\n",
        "    os.chdir('birds21sp')\n",
        "    !wget https://pjreddie.com/media/files/birds/train.tar\n",
        "    !wget https://pjreddie.com/media/files/birds/test.tar\n",
        "    !wget https://pjreddie.com/media/files/birds/names.txt\n",
        "    !tar xf train.tar\n",
        "    !tar xf test.tar\n",
        "    !mkdir testing\n",
        "    !mv test testing\n",
        "    os.chdir('..')"
      ],
      "execution_count": null,
      "outputs": []
    },
    {
      "cell_type": "markdown",
      "metadata": {
        "id": "ROcsDwNiGnB_"
      },
      "source": [
        "Increased size from 128 to 256. Had to lower batch size due to running out of memory on Colab."
      ]
    },
    {
      "cell_type": "code",
      "metadata": {
        "id": "-sNQBsQiszKj"
      },
      "source": [
        "def get_bird_data(augmentation=0):\n",
        "    \n",
        "    transform_train = transforms.Compose([\n",
        "        # doubled from original 128\n",
        "        transforms.Resize(256),\n",
        "        transforms.RandomCrop(256, padding=8, padding_mode='edge'), # Take 256x256 crops from padded images\n",
        "        transforms.RandomHorizontalFlip(),    # 50% of time flip image along y-axis\n",
        "        transforms.ToTensor(),\n",
        "    ])\n",
        "    \n",
        "    transform_test = transforms.Compose([\n",
        "        transforms.Resize(256),\n",
        "        transforms.ToTensor(),\n",
        "    ])\n",
        "    trainset = torchvision.datasets.ImageFolder(root='birds21sp/train', transform=transform_train)\n",
        "    # lowered batch_size from 128 to 64 to fix \"CUDA out of memory\" error\n",
        "    trainloader = torch.utils.data.DataLoader(trainset, batch_size=64, shuffle=True, num_workers=2)\n",
        "\n",
        "    testset = torchvision.datasets.ImageFolder(root='birds21sp/test', transform=transform_test)\n",
        "    testloader = torch.utils.data.DataLoader(testset, batch_size=1, shuffle=False, num_workers=2)\n",
        "    classes = open(\"birds21sp/names.txt\").read().strip().split(\"\\n\")\n",
        "    class_to_idx = trainset.class_to_idx\n",
        "    idx_to_class = {int(v): int(k) for k, v in class_to_idx.items()}\n",
        "    idx_to_name = {k: classes[v] for k,v in idx_to_class.items()}\n",
        "    return {'train': trainloader, 'test': testloader, 'to_class': idx_to_class, 'to_name':idx_to_name}\n",
        "\n",
        "data = get_bird_data()"
      ],
      "execution_count": null,
      "outputs": []
    },
    {
      "cell_type": "code",
      "metadata": {
        "colab": {
          "base_uri": "https://localhost:8080/"
        },
        "id": "yGbbBNQVaO6G",
        "outputId": "e49bddee-d2d7-4e1b-b51a-e15454ed900e"
      },
      "source": [
        "print(data['to_class'])\n",
        "print(data['to_name'])"
      ],
      "execution_count": null,
      "outputs": [
        {
          "output_type": "stream",
          "text": [
            "{0: 0, 1: 1, 2: 10, 3: 100, 4: 101, 5: 102, 6: 103, 7: 104, 8: 105, 9: 106, 10: 107, 11: 108, 12: 109, 13: 11, 14: 110, 15: 111, 16: 112, 17: 113, 18: 114, 19: 115, 20: 116, 21: 117, 22: 118, 23: 119, 24: 12, 25: 120, 26: 121, 27: 122, 28: 123, 29: 124, 30: 125, 31: 126, 32: 127, 33: 128, 34: 129, 35: 13, 36: 130, 37: 131, 38: 132, 39: 133, 40: 134, 41: 135, 42: 136, 43: 137, 44: 138, 45: 139, 46: 14, 47: 140, 48: 141, 49: 142, 50: 143, 51: 144, 52: 145, 53: 146, 54: 147, 55: 148, 56: 149, 57: 15, 58: 150, 59: 151, 60: 152, 61: 153, 62: 154, 63: 155, 64: 156, 65: 157, 66: 158, 67: 159, 68: 16, 69: 160, 70: 161, 71: 162, 72: 163, 73: 164, 74: 165, 75: 166, 76: 167, 77: 168, 78: 169, 79: 17, 80: 170, 81: 171, 82: 172, 83: 173, 84: 174, 85: 175, 86: 176, 87: 177, 88: 178, 89: 179, 90: 18, 91: 180, 92: 181, 93: 182, 94: 183, 95: 184, 96: 185, 97: 186, 98: 187, 99: 188, 100: 189, 101: 19, 102: 190, 103: 191, 104: 192, 105: 193, 106: 194, 107: 195, 108: 196, 109: 197, 110: 198, 111: 199, 112: 2, 113: 20, 114: 200, 115: 201, 116: 202, 117: 203, 118: 204, 119: 205, 120: 206, 121: 207, 122: 208, 123: 209, 124: 21, 125: 210, 126: 211, 127: 212, 128: 213, 129: 214, 130: 215, 131: 216, 132: 217, 133: 218, 134: 219, 135: 22, 136: 220, 137: 221, 138: 222, 139: 223, 140: 224, 141: 225, 142: 226, 143: 227, 144: 228, 145: 229, 146: 23, 147: 230, 148: 231, 149: 232, 150: 233, 151: 234, 152: 235, 153: 236, 154: 237, 155: 238, 156: 239, 157: 24, 158: 240, 159: 241, 160: 242, 161: 243, 162: 244, 163: 245, 164: 246, 165: 247, 166: 248, 167: 249, 168: 25, 169: 250, 170: 251, 171: 252, 172: 253, 173: 254, 174: 255, 175: 256, 176: 257, 177: 258, 178: 259, 179: 26, 180: 260, 181: 261, 182: 262, 183: 263, 184: 264, 185: 265, 186: 266, 187: 267, 188: 268, 189: 269, 190: 27, 191: 270, 192: 271, 193: 272, 194: 273, 195: 274, 196: 275, 197: 276, 198: 277, 199: 278, 200: 279, 201: 28, 202: 280, 203: 281, 204: 282, 205: 283, 206: 284, 207: 285, 208: 286, 209: 287, 210: 288, 211: 289, 212: 29, 213: 290, 214: 291, 215: 292, 216: 293, 217: 294, 218: 295, 219: 296, 220: 297, 221: 298, 222: 299, 223: 3, 224: 30, 225: 300, 226: 301, 227: 302, 228: 303, 229: 304, 230: 305, 231: 306, 232: 307, 233: 308, 234: 309, 235: 31, 236: 310, 237: 311, 238: 312, 239: 313, 240: 314, 241: 315, 242: 316, 243: 317, 244: 318, 245: 319, 246: 32, 247: 320, 248: 321, 249: 322, 250: 323, 251: 324, 252: 325, 253: 326, 254: 327, 255: 328, 256: 329, 257: 33, 258: 330, 259: 331, 260: 332, 261: 333, 262: 334, 263: 335, 264: 336, 265: 337, 266: 338, 267: 339, 268: 34, 269: 340, 270: 341, 271: 342, 272: 343, 273: 344, 274: 345, 275: 346, 276: 347, 277: 348, 278: 349, 279: 35, 280: 350, 281: 351, 282: 352, 283: 353, 284: 354, 285: 355, 286: 356, 287: 357, 288: 358, 289: 359, 290: 36, 291: 360, 292: 361, 293: 362, 294: 363, 295: 364, 296: 365, 297: 366, 298: 367, 299: 368, 300: 369, 301: 37, 302: 370, 303: 371, 304: 372, 305: 373, 306: 374, 307: 375, 308: 376, 309: 377, 310: 378, 311: 379, 312: 38, 313: 380, 314: 381, 315: 382, 316: 383, 317: 384, 318: 385, 319: 386, 320: 387, 321: 388, 322: 389, 323: 39, 324: 390, 325: 391, 326: 392, 327: 393, 328: 394, 329: 395, 330: 396, 331: 397, 332: 398, 333: 399, 334: 4, 335: 40, 336: 400, 337: 401, 338: 402, 339: 403, 340: 404, 341: 405, 342: 406, 343: 407, 344: 408, 345: 409, 346: 41, 347: 410, 348: 411, 349: 412, 350: 413, 351: 414, 352: 415, 353: 416, 354: 417, 355: 418, 356: 419, 357: 42, 358: 420, 359: 421, 360: 422, 361: 423, 362: 424, 363: 425, 364: 426, 365: 427, 366: 428, 367: 429, 368: 43, 369: 430, 370: 431, 371: 432, 372: 433, 373: 434, 374: 435, 375: 436, 376: 437, 377: 438, 378: 439, 379: 44, 380: 440, 381: 441, 382: 442, 383: 443, 384: 444, 385: 445, 386: 446, 387: 447, 388: 448, 389: 449, 390: 45, 391: 450, 392: 451, 393: 452, 394: 453, 395: 454, 396: 455, 397: 456, 398: 457, 399: 458, 400: 459, 401: 46, 402: 460, 403: 461, 404: 462, 405: 463, 406: 464, 407: 465, 408: 466, 409: 467, 410: 468, 411: 469, 412: 47, 413: 470, 414: 471, 415: 472, 416: 473, 417: 474, 418: 475, 419: 476, 420: 477, 421: 478, 422: 479, 423: 48, 424: 480, 425: 481, 426: 482, 427: 483, 428: 484, 429: 485, 430: 486, 431: 487, 432: 488, 433: 489, 434: 49, 435: 490, 436: 491, 437: 492, 438: 493, 439: 494, 440: 495, 441: 496, 442: 497, 443: 498, 444: 499, 445: 5, 446: 50, 447: 500, 448: 501, 449: 502, 450: 503, 451: 504, 452: 505, 453: 506, 454: 507, 455: 508, 456: 509, 457: 51, 458: 510, 459: 511, 460: 512, 461: 513, 462: 514, 463: 515, 464: 516, 465: 517, 466: 518, 467: 519, 468: 52, 469: 520, 470: 521, 471: 522, 472: 523, 473: 524, 474: 525, 475: 526, 476: 527, 477: 528, 478: 529, 479: 53, 480: 530, 481: 531, 482: 532, 483: 533, 484: 534, 485: 535, 486: 536, 487: 537, 488: 538, 489: 539, 490: 54, 491: 540, 492: 541, 493: 542, 494: 543, 495: 544, 496: 545, 497: 546, 498: 547, 499: 548, 500: 549, 501: 55, 502: 550, 503: 551, 504: 552, 505: 553, 506: 554, 507: 56, 508: 57, 509: 58, 510: 59, 511: 6, 512: 60, 513: 61, 514: 62, 515: 63, 516: 64, 517: 65, 518: 66, 519: 67, 520: 68, 521: 69, 522: 7, 523: 70, 524: 71, 525: 72, 526: 73, 527: 74, 528: 75, 529: 76, 530: 77, 531: 78, 532: 79, 533: 8, 534: 80, 535: 81, 536: 82, 537: 83, 538: 84, 539: 85, 540: 86, 541: 87, 542: 88, 543: 89, 544: 9, 545: 90, 546: 91, 547: 92, 548: 93, 549: 94, 550: 95, 551: 96, 552: 97, 553: 98, 554: 99}\n",
            "{0: 'Tundra Swan', 1: 'Yellow-billed Magpie', 2: 'Verdin', 3: 'Rough-legged Hawk (Light morph)', 4: \"Abert's Towhee\", 5: 'Northern Rough-winged Swallow', 6: 'Red-shouldered Hawk (Immature)', 7: 'Purple Martin (Female/juvenile)', 8: 'Blue Jay', 9: 'Varied Thrush', 10: \"Clark's Grebe\", 11: 'Reddish Egret (White morph)', 12: 'Spotted Sandpiper (Breeding)', 13: 'Dark-eyed Junco (Pink-sided)', 14: 'Western Grebe', 15: 'Little Blue Heron (Immature)', 16: 'Broad-billed Hummingbird (Adult Male)', 17: \"Say's Phoebe\", 18: 'White-crowned Sparrow (Immature)', 19: 'White Ibis (Immature)', 20: 'Western Gull (Adult)', 21: 'California Quail (Male)', 22: 'White-crowned Sparrow (Adult)', 23: 'Ring-necked Duck (Breeding male)', 24: 'Western Tanager (Breeding Male)', 25: \"Bewick's Wren\", 26: 'Northern Pintail (Breeding male)', 27: 'American Pipit', 28: 'Blackpoll Warbler (Female/juvenile)', 29: 'Belted Kingfisher', 30: 'Winter Wren', 31: 'American Black Duck', 32: \"Barrow's Goldeneye (Female/Eclipse male)\", 33: 'Fox Sparrow (Sooty)', 34: 'Purple Martin (Adult male)', 35: 'Brant', 36: 'Wood Duck (Female/Eclipse male)', 37: 'Blue Grosbeak (Female/juvenile)', 38: 'White-tailed Kite', 39: 'American Coot', 40: 'Snow Goose (Blue morph)', 41: 'Great Black-backed Gull (Adult)', 42: 'White-winged Crossbill (Female/juvenile)', 43: \"Anna's Hummingbird (Adult Male)\", 44: 'Ring-necked Pheasant (Female/juvenile)', 45: 'Dark-eyed Junco (Oregon)', 46: 'Snow Bunting (Nonbreeding)', 47: 'Mallard (Breeding male)', 48: 'Ruby-crowned Kinglet', 49: 'Brown-headed Cowbird (Male)', 50: 'Common Yellowthroat (Female/immature male)', 51: 'Gray Jay', 52: 'House Wren', 53: 'Trumpeter Swan', 54: 'Mourning Dove', 55: 'Summer Tanager (Immature Male)', 56: 'Common Loon (Breeding)', 57: 'Common Goldeneye (Breeding male)', 58: 'Black-legged Kittiwake (Immature)', 59: \"Cassin's Finch (Female/immature)\", 60: 'Tennessee Warbler', 61: 'Cactus Wren', 62: 'Evening Grosbeak (Female/Juvenile)', 63: 'Red-necked Grebe (Breeding)', 64: 'Blue-headed Vireo', 65: 'Whimbrel', 66: \"MacGillivray's Warbler\", 67: 'Reddish Egret (Dark morph)', 68: 'American Wigeon (Breeding male)', 69: 'Willet', 70: \"Cassin's Kingbird\", 71: 'Lesser Scaup (Female/Eclipse male)', 72: 'Northern Gannet (Adult, Subadult)', 73: 'Osprey', 74: \"Bonaparte's Gull\", 75: 'Black-throated Blue Warbler (Adult Male)', 76: 'Pacific Loon (Nonbreeding/juvenile)', 77: 'Canvasback (Breeding male)', 78: 'Indigo Bunting (Female/juvenile)', 79: \"Harris's Sparrow (Immature)\", 80: 'Pine Grosbeak (Adult Male)', 81: 'Red-throated Loon (Nonbreeding/juvenile)', 82: 'Marbled Godwit', 83: 'Yellow-throated Warbler', 84: 'Common Raven', 85: \"Steller's Jay\", 86: 'Black-billed Magpie', 87: 'House Finch (Female/immature)', 88: 'Spotted Sandpiper (Nonbreeding/juvenile)', 89: 'Pygmy Nuthatch', 90: 'Eurasian Collared-Dove', 91: \"Brandt's Cormorant\", 92: 'Black-crested Titmouse', 93: 'Long-tailed Duck (Winter male)', 94: 'Swallow-tailed Kite', 95: 'Brown Thrasher', 96: 'Black-chinned Hummingbird (Female, immature)', 97: 'Black-throated Gray Warbler', 98: 'Snowy Owl', 99: 'White-winged Dove', 100: 'Surf Scoter (Female/immature)', 101: 'Red-necked Grebe (Nonbreeding/juvenile)', 102: 'American Tree Sparrow', 103: 'Lesser Goldfinch (Female/juvenile)', 104: 'Northern Flicker (Yellow-shafted)', 105: 'Lark Sparrow', 106: 'Rose-breasted Grosbeak (Adult Male)', 107: 'Northern Gannet (Immature/Juvenile)', 108: 'Yellow-headed Blackbird (Female/Immature Male)', 109: 'Prairie Falcon', 110: 'Dickcissel', 111: 'Warbling Vireo', 112: 'Bay-breasted Warbler (Female, Nonbreeding male, Immature)', 113: 'Roseate Spoonbill', 114: 'Wood Thrush', 115: \"Harris's Hawk\", 116: 'Pacific Wren', 117: 'Eared Grebe (Nonbreeding/juvenile)', 118: 'Least Flycatcher', 119: 'Baltimore Oriole (Female/Immature male)', 120: \"Harris's Sparrow (Adult)\", 121: 'Wood Stork', 122: \"Hutton's Vireo\", 123: 'Glaucous-winged Gull (Immature)', 124: \"Brewer's Blackbird (Female/Juvenile)\", 125: 'Peregrine Falcon (Immature)', 126: 'Black-necked Stilt', 127: 'Glaucous-winged Gull (Adult)', 128: 'Pigeon Guillemot (Breeding)', 129: 'Boreal Chickadee', 130: 'Red-breasted Sapsucker', 131: 'Yellow-rumped Warbler (Breeding Myrtle)', 132: 'Blackburnian Warbler', 133: 'Red-breasted Merganser (Breeding male)', 134: 'Gadwall (Breeding male)', 135: 'Snow Goose (White morph)', 136: 'Barred Owl', 137: 'Common Nighthawk', 138: 'Painted Bunting (Female/juvenile)', 139: \"Costa's Hummingbird (Female, immature)\", 140: \"Townsend's Solitaire\", 141: 'Common Yellowthroat (Adult Male)', 142: 'Bald Eagle (Immature, juvenile)', 143: 'Eastern Screech-Owl', 144: 'Common Grackle', 145: 'Pacific-slope Flycatcher', 146: 'Mountain Chickadee', 147: 'Florida Scrub-Jay', 148: 'Black-and-white Warbler', 149: 'Cordilleran Flycatcher', 150: 'Little Blue Heron (Adult)', 151: 'California Gull (Adult)', 152: 'Evening Grosbeak (Adult Male)', 153: 'Monk Parakeet', 154: 'Great Crested Flycatcher', 155: \"Wilson's Phalarope (Breeding)\", 156: 'Broad-winged Hawk (Adult)', 157: 'Summer Tanager (Adult Male)', 158: 'Burrowing Owl', 159: 'Pyrrhuloxia', 160: \"Nuttall's Woodpecker\", 161: 'Herring Gull (Immature)', 162: 'Bay-breasted Warbler (Breeding male)', 163: 'Surfbird', 164: 'Cape May Warbler', 165: 'Dark-eyed Junco (Red-backed/Gray-headed)', 166: 'Glossy Ibis', 167: 'Band-tailed Pigeon', 168: 'Inca Dove', 169: 'Gila Woodpecker', 170: 'Western Sandpiper', 171: 'Pine Siskin', 172: 'Fox Sparrow (Thick-billed/Slate-colored)', 173: 'Common Gallinule (Immature)', 174: 'Vesper Sparrow', 175: 'White-eyed Vireo', 176: 'Indigo Bunting (Adult Male)', 177: 'Barn Owl', 178: 'Great-tailed Grackle', 179: \"Costa's Hummingbird (Adult Male)\", 180: 'Northern Harrier (Female, immature)', 181: \"Clark's Nutcracker\", 182: 'American Crow', 183: 'Yellow-rumped Warbler (Winter/juvenile Myrtle)', 184: 'Long-billed Curlew', 185: 'Royal Tern', 186: 'Horned Lark', 187: 'Common Gallinule (Adult)', 188: 'Swamp Sparrow', 189: 'White-throated Swift', 190: \"Bell's Vireo\", 191: 'Dunlin (Nonbreeding/juvenile)', 192: 'House Sparrow (Male)', 193: 'Caspian Tern', 194: 'Black-bellied Whistling-Duck', 195: 'American Woodcock', 196: 'Wild Turkey', 197: 'Hooded Oriole (Adult male)', 198: 'Blue Grosbeak (Adult Male)', 199: 'Northern Parula', 200: 'Common Ground-Dove', 201: 'Black-crowned Night-Heron (Immature)', 202: \"Cassin's Vireo\", 203: 'Greater Roadrunner', 204: 'Golden-crowned Sparrow (Adult)', 205: 'Common Eider (Female/juvenile)', 206: 'Canyon Wren', 207: 'Bald Eagle (Adult, subadult)', 208: 'Orange-crowned Warbler', 209: 'Red Crossbill (Female/juvenile)', 210: 'Calliope Hummingbird (Female, immature)', 211: 'Harlequin Duck (Male)', 212: 'Fox Sparrow (Red)', 213: 'Pine Grosbeak (Female/juvenile)', 214: 'Western Bluebird', 215: 'Golden-fronted Woodpecker', 216: 'American Kestrel (Female, immature)', 217: 'Broad-tailed Hummingbird (Female, immature)', 218: 'Purple Gallinule (Adult)', 219: 'Ring-billed Gull (Adult)', 220: 'Chihuahuan Raven', 221: 'Double-crested Cormorant (Immature)', 222: 'Dunlin (Breeding)', 223: 'Common Goldeneye (Female/Eclipse male)', 224: 'Hooded Merganser (Breeding male)', 225: 'Purple Gallinule (Immature)', 226: 'Red-breasted Nuthatch', 227: 'Red-shouldered Hawk (Adult )', 228: 'Northern Shrike', 229: 'Black Guillemot (Nonbreeding, juvenile)', 230: \"Swainson's Thrush\", 231: 'Blackpoll Warbler (Breeding male)', 232: 'Red-headed Woodpecker (Adult)', 233: 'Great Black-backed Gull (Immature)', 234: 'Lazuli Bunting (Adult Male)', 235: 'Pacific Loon (Breeding)', 236: 'Orchard Oriole (Female/Juvenile)', 237: 'European Starling (Breeding Adult)', 238: 'Chestnut-sided Warbler (Female/immature male)', 239: 'Baltimore Oriole (Adult male)', 240: 'Yellow-throated Vireo', 241: 'Painted Bunting (Adult Male)', 242: 'American Redstart (Adult Male)', 243: 'American Robin (Juvenile)', 244: 'Purple Finch (Adult Male)', 245: 'Snow Bunting (Breeding adult)', 246: 'Palm Warbler', 247: 'Chipping Sparrow (Breeding)', 248: 'Red-tailed Hawk (Dark morph)', 249: 'Violet-green Swallow', 250: 'Rock Pigeon', 251: 'Yellow-crowned Night-Heron (Immature)', 252: 'American Dipper', 253: 'European Starling (Nonbreeding Adult)', 254: 'Black Tern', 255: 'Yellow Warbler', 256: 'American Oystercatcher', 257: 'Common Tern', 258: \"Allen's Hummingbird (Female, immature)\", 259: 'Ring-billed Gull (Immature)', 260: 'White-winged Scoter (Female/juvenile)', 261: 'Gadwall (Female/Eclipse male)', 262: 'Black-capped Chickadee', 263: 'California Towhee', 264: 'Western Kingbird', 265: 'Rufous Hummingbird (Adult Male)', 266: 'Black-bellied Plover (Breeding)', 267: 'Tricolored Heron', 268: 'Bushtit', 269: 'Northern Waterthrush', 270: 'Western Screech-Owl', 271: 'Phainopepla (Male)', 272: 'Peregrine Falcon (Adult)', 273: 'Double-crested Cormorant (Adult)', 274: 'Redhead (Breeding male)', 275: 'Red-bellied Woodpecker', 276: 'American Avocet', 277: 'Hooded Oriole (Female/Immature male)', 278: 'Louisiana Waterthrush', 279: 'Horned Grebe (Nonbreeding/juvenile)', 280: 'Yellow-breasted Chat', 281: 'American Robin (Adult)', 282: 'Semipalmated Sandpiper', 283: 'Northern Flicker (Red-shafted)', 284: 'Black-headed Grosbeak (Adult Male)', 285: 'Purple Finch (Female/immature)', 286: 'Turkey Vulture', 287: 'Harlequin Duck (Female/juvenile)', 288: 'Northern Cardinal (Female/Juvenile)', 289: 'Bufflehead (Female/immature male)', 290: 'Cackling Goose', 291: 'California Quail (Female/juvenile)', 292: 'Bobolink (Breeding male)', 293: 'Red-tailed Hawk (Light morph immature)', 294: 'Chipping Sparrow (Immature/nonbreeding adult)', 295: 'Greater Scaup (Breeding male)', 296: 'Dark-eyed Junco (Slate-colored)', 297: 'Canyon Towhee', 298: 'Lark Bunting (Female/Nonbreeding male)', 299: 'Great Horned Owl', 300: 'Wood Duck (Breeding male)', 301: 'Black-chinned Hummingbird (Adult Male)', 302: 'Rusty Blackbird', 303: 'Brown Pelican', 304: 'Brown-headed Cowbird (Female/Juvenile)', 305: 'American Wigeon (Female/Eclipse male)', 306: 'Oak Titmouse', 307: 'White-winged Scoter (Male)', 308: 'Marsh Wren', 309: 'Northern Pintail (Female/Eclipse male)', 310: 'Horned Grebe (Breeding)', 311: 'Chestnut-backed Chickadee', 312: 'Green-winged Teal  (Female/juvenile)', 313: 'Ring-necked Pheasant (Male)', 314: 'Common Redpoll', 315: 'White-winged Crossbill (Adult Male)', 316: \"Brewer's Blackbird (Male)\", 317: 'Barn Swallow', 318: 'Juniper Titmouse', 319: 'Snowy Egret', 320: 'Northwestern Crow', 321: 'Bobolink (Female/juvenile/nonbreeding male)', 322: \"Heermann's Gull (Immature)\", 323: 'Herring Gull (Adult)', 324: 'Bohemian Waxwing', 325: 'Common Eider (Adult male)', 326: 'Blue-gray Gnatcatcher', 327: 'Tufted Titmouse', 328: 'House Sparrow (Female/Juvenile)', 329: 'Black Scoter (Male)', 330: 'Neotropic Cormorant', 331: 'Mountain Bluebird', 332: 'Sharp-shinned Hawk (Adult )', 333: 'Ruddy Duck (Female/juvenile)', 334: 'Hermit Thrush', 335: 'Mallard (Female/Eclipse male)', 336: \"Cooper's Hawk (Immature)\", 337: 'Red-eyed Vireo', 338: 'Black Rosy-Finch', 339: 'Carolina Chickadee', 340: 'Blue-winged Warbler', 341: 'White-faced Ibis', 342: 'Lazuli Bunting (Female/juvenile)', 343: 'Western Meadowlark', 344: 'Great Blue Heron', 345: 'Downy Woodpecker', 346: 'Sharp-shinned Hawk (Immature)', 347: 'Blue-winged Teal  (Female/juvenile)', 348: 'Yellow-headed Blackbird (Adult Male)', 349: \"Wilson's Phalarope (Nonbreeding, juvenile)\", 350: 'Loggerhead Shrike', 351: 'Cinnamon Teal (Male)', 352: \"Vaux's Swift\", 353: 'Golden Eagle (Immature)', 354: 'Long-tailed Duck (Female/juvenile)', 355: 'Ruffed Grouse', 356: 'Scarlet Tanager (Female/Nonbreeding Male)', 357: 'Killdeer', 358: 'Bridled Titmouse', 359: 'Mourning Warbler', 360: \"Ross's Goose\", 361: 'Ruddy Duck (Breeding male)', 362: 'Red Crossbill (Adult Male)', 363: 'Gray-crowned Rosy-Finch', 364: 'Yellow-billed Cuckoo', 365: 'Savannah Sparrow', 366: 'Eastern Meadowlark', 367: 'Bufflehead (Breeding male)', 368: 'Nashville Warbler', 369: 'Black-headed Grosbeak (Female/immature male)', 370: 'Black-throated Blue Warbler (Female/Immature male)', 371: 'Sandhill Crane', 372: 'Wrentit', 373: 'Black-throated Green Warbler', 374: 'Rufous-crowned Sparrow', 375: 'Green Heron', 376: 'Broad-billed Hummingbird (Female, immature)', 377: 'Black Skimmer', 378: 'Prothonotary Warbler', 379: 'Eastern Phoebe', 380: 'Black-tailed Gnatcatcher', 381: 'Northern Pygmy-Owl', 382: 'Black Oystercatcher', 383: 'California Gull (Immature)', 384: 'Black-legged Kittiwake (Adult)', 385: 'Long-tailed Duck (Summer male)', 386: 'Red-winged Blackbird (Female/juvenile)', 387: 'Black Turnstone', 388: \"Swainson's Hawk (Light morph )\", 389: 'Short-billed Dowitcher', 390: 'Golden-crowned Kinglet', 391: 'Prairie Warbler', 392: 'White-throated Sparrow (Tan-striped/immature)', 393: 'Pine Warbler', 394: \"Wilson's Warbler\", 395: 'Pelagic Cormorant', 396: 'Common Merganser (Female/immature male)', 397: 'Ladder-backed Woodpecker', 398: 'Least Sandpiper', 399: 'White Ibis (Adult)', 400: 'Northern Saw-whet Owl', 401: 'Green-tailed Towhee', 402: 'Red-throated Loon (Breeding)', 403: 'Ruddy Turnstone', 404: 'Scarlet Tanager (Breeding Male)', 405: \"Brewer's Sparrow\", 406: 'Hairy Woodpecker', 407: \"Yellow-rumped Warbler (Winter/juvenile Audubon's)\", 408: 'Ring-necked Duck (Female/Eclipse male)', 409: 'Vermilion Flycatcher (Female, immature)', 410: 'Red-breasted Merganser (Female/immature male)', 411: 'Western Scrub-Jay', 412: 'Orchard Oriole (Adult Male)', 413: 'Boat-tailed Grackle', 414: 'Rose-breasted Grosbeak (Female/immature male)', 415: 'Song Sparrow', 416: 'Great Cormorant (Immature)', 417: 'Orchard Oriole (Immature Male)', 418: 'Bronzed Cowbird', 419: 'Great Cormorant (Adult)', 420: 'Calliope Hummingbird (Adult Male)', 421: 'Greater White-fronted Goose', 422: \"Allen's Hummingbird (Adult Male)\", 423: 'Black-bellied Plover (Nonbreeding/juvenile)', 424: \"Gambel's Quail (Female/juvenile)\", 425: 'Eastern Wood-Pewee', 426: 'Western Tanager (Female/Nonbreeding Male)', 427: 'Canada Warbler', 428: 'Golden-crowned Sparrow (Immature)', 429: 'Northern Shoveler (Female/Eclipse male)', 430: 'Cattle Egret', 431: 'Western Gull (Immature)', 432: 'Scaled Quail', 433: 'Tree Swallow', 434: 'Veery', 435: \"Gambel's Quail (Male)\", 436: 'Plumbeous Vireo', 437: 'Crested Caracara', 438: 'Dark-eyed Junco (White-winged)', 439: 'Red-tailed Hawk (Light morph adult)', 440: 'Carolina Wren', 441: \"Anna's Hummingbird (Female, immature)\", 442: 'Pileated Woodpecker', 443: 'Cave Swallow', 444: 'Cedar Waxwing', 445: 'Green-winged Teal (Male)', 446: 'Scissor-tailed Flycatcher', 447: 'Broad-winged Hawk (Immature)', 448: 'Rough-legged Hawk (Dark morph)', 449: \"Barrow's Goldeneye (Breeding male)\", 450: 'American Kestrel (Adult male)', 451: 'Black Vulture', 452: 'American Goldfinch (Breeding Male)', 453: 'Ruby-throated Hummingbird (Adult Male)', 454: 'Brown-headed Nuthatch', 455: \"Swainson's Hawk (Immature)\", 456: 'Great Egret', 457: \"Bullock's Oriole (Female/Immature male)\", 458: 'Solitary Sandpiper', 459: \"Bullock's Oriole (Adult male)\", 460: \"Townsend's Warbler\", 461: 'Pigeon Guillemot (Nonbreeding, juvenile)', 462: 'Curve-billed Thrasher', 463: 'Cliff Swallow', 464: 'Anhinga', 465: 'Chestnut-sided Warbler (Breeding male)', 466: 'Yellow-bellied Sapsucker', 467: 'Greater Scaup (Female/Eclipse male)', 468: 'Northern Harrier (Adult male)', 469: 'Yellow-crowned Night-Heron (Adult)', 470: 'Western Wood-Pewee', 471: 'House Finch (Adult Male)', 472: 'Hermit Warbler', 473: 'Ovenbird', 474: 'Black Phoebe', 475: 'Bank Swallow', 476: 'Northern Shoveler (Breeding male)', 477: 'Common Merganser (Breeding male)', 478: 'American White Pelican', 479: 'Mew Gull', 480: 'Ruddy Duck (Winter male)', 481: 'Black Guillemot (Breeding)', 482: 'Mexican Jay', 483: 'Ash-throated Flycatcher', 484: \"Lincoln's Sparrow\", 485: 'Canvasback (Female/Eclipse male)', 486: 'Gray Catbird', 487: 'Semipalmated Plover', 488: 'Northern Mockingbird', 489: 'European Starling (Juvenile)', 490: \"Cassin's Finch (Adult Male)\", 491: 'Pied-billed Grebe', 492: 'Merlin', 493: 'Rufous Hummingbird (Female, immature)', 494: 'Eared Grebe (Breeding)', 495: \"Heermann's Gull (Adult)\", 496: 'Brown-capped Rosy-Finch', 497: 'Eastern Kingbird', 498: 'Golden Eagle (Adult)', 499: 'Hooded Warbler', 500: 'Acorn Woodpecker', 501: 'Sanderling (Nonbreeding/juvenile)', 502: 'Northern Cardinal (Adult Male)', 503: 'Canada Goose', 504: 'Northern Bobwhite', 505: 'Summer Tanager (Female)', 506: 'Mottled Duck', 507: 'California Thrasher', 508: 'Redhead (Female/Eclipse male)', 509: 'Broad-tailed Hummingbird (Adult Male)', 510: 'Lark Bunting (Breeding male)', 511: 'Magnolia Warbler (Breeding male)', 512: 'White-breasted Nuthatch', 513: 'Phainopepla (Female/juvenile)', 514: 'Blue-winged Teal  (Male)', 515: 'Brown Creeper', 516: 'Red-headed Woodpecker (Immature)', 517: 'Greater Yellowlegs', 518: 'Cinnamon Teal (Female/juvenile)', 519: 'Mute Swan', 520: 'Black Scoter (Female/juvenile)', 521: 'Common Loon (Nonbreeding/juvenile)', 522: 'Hoary Redpoll', 523: 'Eastern Towhee', 524: 'Black-crowned Night-Heron (Adult)', 525: 'Laughing Gull (Nonbreeding/Immature)', 526: 'Fish Crow', 527: \"Cooper's Hawk (Adult)\", 528: 'Red-naped Sapsucker', 529: \"Forster's Tern\", 530: 'Vermilion Flycatcher (Adult male)', 531: 'Lesser Scaup (Breeding male)', 532: 'Laughing Gull (Breeding)', 533: \"Wilson's Snipe\", 534: 'Spotted Towhee', 535: \"Yellow-rumped Warbler (Breeding Audubon's)\", 536: 'Chimney Swift', 537: 'Magnolia Warbler (Female/immature male)', 538: 'Common Eider (Immature/Eclipse male)', 539: 'Eastern Bluebird', 540: 'Clay-colored Sparrow', 541: 'Ruby-throated Hummingbird (Female, immature)', 542: 'Hooded Merganser (Female/immature male)', 543: 'Sanderling (Breeding)', 544: 'Lesser Yellowlegs', 545: 'Field Sparrow', 546: 'Lesser Goldfinch (Adult Male)', 547: 'American Redstart (Female/juvenile)', 548: 'Red-winged Blackbird (Male)', 549: 'American Goldfinch (Female/Nonbreeding Male)', 550: 'Mississippi Kite', 551: \"Swainson's Hawk (Dark morph )\", 552: 'Surf Scoter (Male)', 553: 'White-throated Sparrow (White-striped)', 554: 'Black-billed Cuckoo'}\n"
          ],
          "name": "stdout"
        }
      ]
    },
    {
      "cell_type": "code",
      "metadata": {
        "colab": {
          "base_uri": "https://localhost:8080/",
          "height": 148
        },
        "id": "llHSMv7js5yA",
        "outputId": "8fe39186-6e01-4a23-8027-6ef0d40d2d89"
      },
      "source": [
        "dataiter = iter(data['train'])\n",
        "images, labels = dataiter.next()\n",
        "images = images[:8]\n",
        "print(images.size())\n",
        "\n",
        "def imshow(img):\n",
        "    npimg = img.numpy()\n",
        "    plt.imshow(np.transpose(npimg, (1, 2, 0)))\n",
        "    plt.show()\n",
        "\n",
        "# show images\n",
        "imshow(torchvision.utils.make_grid(images))\n",
        "# print labels\n",
        "print(\"Labels:\" + ', '.join('%9s' % data['to_name'][labels[j].item()] for j in range(8)))"
      ],
      "execution_count": null,
      "outputs": [
        {
          "output_type": "stream",
          "text": [
            "torch.Size([8, 3, 256, 256])\n"
          ],
          "name": "stdout"
        },
        {
          "output_type": "display_data",
          "data": {
            "image/png": "[encoded data removed]",
            "text/plain": [
              "<Figure size 432x288 with 1 Axes>"
            ]
          },
          "metadata": {
            "tags": [],
            "needs_background": "light"
          }
        },
        {
          "output_type": "stream",
          "text": [
            "Labels:Royal Tern, Magnolia Warbler (Breeding male), Cedar Waxwing, Rose-breasted Grosbeak (Adult Male), Spotted Towhee, Downy Woodpecker, Northern Cardinal (Female/Juvenile), California Gull (Adult)\n"
          ],
          "name": "stdout"
        }
      ]
    },
    {
      "cell_type": "markdown",
      "metadata": {
        "id": "s8jgiKbUG2Lq"
      },
      "source": [
        "# Training"
      ]
    },
    {
      "cell_type": "code",
      "metadata": {
        "id": "C5_LglWCs9Iu"
      },
      "source": [
        "def train(net, dataloader, epochs=1, start_epoch=0, lr=0.01, momentum=0.9, decay=0.0005, \n",
        "          verbose=1, print_every=10, state=None, schedule={}, checkpoint_path=None):\n",
        "    net.to(device)\n",
        "    net.train()\n",
        "    losses = []\n",
        "    criterion = nn.CrossEntropyLoss()\n",
        "    optimizer = optim.SGD(net.parameters(), lr=lr, momentum=momentum, weight_decay=decay)\n",
        "\n",
        "    # Load previous training state\n",
        "    if state:\n",
        "        net.load_state_dict(state['net'])\n",
        "        optimizer.load_state_dict(state['optimizer'])\n",
        "        start_epoch = state['epoch']\n",
        "        losses = state['losses']\n",
        "\n",
        "    # Fast forward lr schedule through already trained epochs\n",
        "    for epoch in range(start_epoch):\n",
        "        if epoch in schedule:\n",
        "            print (\"Learning rate: %f\"% schedule[epoch])\n",
        "            for g in optimizer.param_groups:\n",
        "                g['lr'] = schedule[epoch]\n",
        "\n",
        "    for epoch in range(start_epoch, epochs):\n",
        "        sum_loss = 0.0\n",
        "\n",
        "        # Update learning rate when scheduled\n",
        "        if epoch in schedule:\n",
        "            print (\"Learning rate: %f\"% schedule[epoch])\n",
        "            for g in optimizer.param_groups:\n",
        "                g['lr'] = schedule[epoch]\n",
        "\n",
        "        for i, batch in enumerate(dataloader, 0):\n",
        "            inputs, labels = batch[0].to(device), batch[1].to(device)\n",
        "\n",
        "            optimizer.zero_grad()\n",
        "\n",
        "            outputs = net(inputs)\n",
        "            loss = criterion(outputs, labels)\n",
        "            loss.backward()  # autograd magic, computes all the partial derivatives\n",
        "            optimizer.step() # takes a step in gradient direction\n",
        "\n",
        "            losses.append(loss.item())\n",
        "            sum_loss += loss.item()\n",
        "\n",
        "            if i % print_every == print_every-1:    # print every 10 mini-batches\n",
        "                if verbose:\n",
        "                  print('[%d, %5d] loss: %.3f' % (epoch, i + 1, sum_loss / print_every))\n",
        "                sum_loss = 0.0\n",
        "        if checkpoint_path:\n",
        "            state = {'epoch': epoch+1, 'net': net.state_dict(), 'optimizer': optimizer.state_dict(), 'losses': losses}\n",
        "            torch.save(state, checkpoint_path + 'checkpoint-%d.pkl'%(epoch+1))\n",
        "    return losses"
      ],
      "execution_count": null,
      "outputs": []
    },
    {
      "cell_type": "markdown",
      "metadata": {
        "id": "XSU6t_QuG9tl"
      },
      "source": [
        "Using ResNet-50."
      ]
    },
    {
      "cell_type": "code",
      "metadata": {
        "colab": {
          "base_uri": "https://localhost:8080/"
        },
        "id": "EZ-yKtWUu-OE",
        "outputId": "828b35c2-8a48-483d-afeb-08da780afea2"
      },
      "source": [
        "resnet = torch.hub.load('pytorch/vision:v0.6.0', 'resnet50', pretrained=True)\n",
        "resnet.fc = nn.Linear(2048, 555) # This will reinitialize the layer as well\n",
        "\n",
        "losses = train(resnet, data['train'], epochs=5, lr=.01, print_every=10, checkpoint_path=checkpoints)"
      ],
      "execution_count": null,
      "outputs": [
        {
          "output_type": "stream",
          "text": [
            "Using cache found in /root/.cache/torch/hub/pytorch_vision_v0.6.0\n"
          ],
          "name": "stderr"
        },
        {
          "output_type": "stream",
          "text": [
            "[0,    10] loss: 6.342\n",
            "[0,    20] loss: 6.296\n",
            "[0,    30] loss: 6.176\n",
            "[0,    40] loss: 5.952\n",
            "[0,    50] loss: 5.942\n",
            "[0,    60] loss: 5.667\n",
            "[0,    70] loss: 5.432\n",
            "[0,    80] loss: 5.126\n",
            "[0,    90] loss: 4.939\n",
            "[0,   100] loss: 4.724\n",
            "[0,   110] loss: 4.552\n",
            "[0,   120] loss: 4.485\n",
            "[0,   130] loss: 4.291\n",
            "[0,   140] loss: 4.137\n",
            "[0,   150] loss: 3.990\n",
            "[0,   160] loss: 3.817\n",
            "[0,   170] loss: 3.733\n",
            "[0,   180] loss: 3.631\n",
            "[0,   190] loss: 3.507\n",
            "[0,   200] loss: 3.496\n",
            "[0,   210] loss: 3.459\n",
            "[0,   220] loss: 3.329\n",
            "[0,   230] loss: 3.280\n",
            "[0,   240] loss: 3.128\n",
            "[0,   250] loss: 3.032\n",
            "[0,   260] loss: 2.969\n",
            "[0,   270] loss: 3.012\n",
            "[0,   280] loss: 2.870\n",
            "[0,   290] loss: 2.889\n",
            "[0,   300] loss: 2.875\n",
            "[0,   310] loss: 2.772\n",
            "[0,   320] loss: 2.844\n",
            "[0,   330] loss: 2.699\n",
            "[0,   340] loss: 2.488\n",
            "[0,   350] loss: 2.599\n",
            "[0,   360] loss: 2.466\n",
            "[0,   370] loss: 2.486\n",
            "[0,   380] loss: 2.605\n",
            "[0,   390] loss: 2.467\n",
            "[0,   400] loss: 2.413\n",
            "[0,   410] loss: 2.315\n",
            "[0,   420] loss: 2.338\n",
            "[0,   430] loss: 2.240\n",
            "[0,   440] loss: 2.283\n",
            "[0,   450] loss: 2.321\n",
            "[0,   460] loss: 2.168\n",
            "[0,   470] loss: 2.231\n",
            "[0,   480] loss: 2.186\n",
            "[0,   490] loss: 2.103\n",
            "[0,   500] loss: 2.031\n",
            "[0,   510] loss: 2.012\n",
            "[0,   520] loss: 2.093\n",
            "[0,   530] loss: 2.024\n",
            "[0,   540] loss: 2.029\n",
            "[0,   550] loss: 2.073\n",
            "[0,   560] loss: 2.109\n",
            "[0,   570] loss: 1.996\n",
            "[0,   580] loss: 1.990\n",
            "[0,   590] loss: 2.037\n",
            "[0,   600] loss: 2.009\n",
            "[1,    10] loss: 1.733\n",
            "[1,    20] loss: 1.782\n",
            "[1,    30] loss: 1.692\n",
            "[1,    40] loss: 1.632\n",
            "[1,    50] loss: 1.711\n",
            "[1,    60] loss: 1.756\n",
            "[1,    70] loss: 1.636\n",
            "[1,    80] loss: 1.639\n",
            "[1,    90] loss: 1.566\n",
            "[1,   100] loss: 1.626\n",
            "[1,   110] loss: 1.572\n",
            "[1,   120] loss: 1.636\n",
            "[1,   130] loss: 1.560\n",
            "[1,   140] loss: 1.514\n",
            "[1,   150] loss: 1.587\n",
            "[1,   160] loss: 1.548\n",
            "[1,   170] loss: 1.557\n",
            "[1,   180] loss: 1.494\n",
            "[1,   190] loss: 1.524\n",
            "[1,   200] loss: 1.577\n",
            "[1,   210] loss: 1.598\n",
            "[1,   220] loss: 1.653\n",
            "[1,   230] loss: 1.524\n",
            "[1,   240] loss: 1.577\n",
            "[1,   250] loss: 1.549\n",
            "[1,   260] loss: 1.572\n",
            "[1,   270] loss: 1.551\n",
            "[1,   280] loss: 1.429\n",
            "[1,   290] loss: 1.464\n",
            "[1,   300] loss: 1.486\n",
            "[1,   310] loss: 1.354\n",
            "[1,   320] loss: 1.492\n",
            "[1,   330] loss: 1.422\n",
            "[1,   340] loss: 1.426\n",
            "[1,   350] loss: 1.445\n",
            "[1,   360] loss: 1.512\n",
            "[1,   370] loss: 1.499\n",
            "[1,   380] loss: 1.507\n",
            "[1,   390] loss: 1.501\n",
            "[1,   400] loss: 1.409\n",
            "[1,   410] loss: 1.603\n",
            "[1,   420] loss: 1.387\n",
            "[1,   430] loss: 1.545\n",
            "[1,   440] loss: 1.481\n",
            "[1,   450] loss: 1.456\n",
            "[1,   460] loss: 1.413\n",
            "[1,   470] loss: 1.449\n",
            "[1,   480] loss: 1.396\n",
            "[1,   490] loss: 1.393\n",
            "[1,   500] loss: 1.468\n",
            "[1,   510] loss: 1.434\n",
            "[1,   520] loss: 1.399\n",
            "[1,   530] loss: 1.327\n",
            "[1,   540] loss: 1.405\n",
            "[1,   550] loss: 1.421\n",
            "[1,   560] loss: 1.431\n",
            "[1,   570] loss: 1.440\n",
            "[1,   580] loss: 1.302\n",
            "[1,   590] loss: 1.267\n",
            "[1,   600] loss: 1.419\n",
            "[2,    10] loss: 1.181\n",
            "[2,    20] loss: 1.341\n",
            "[2,    30] loss: 1.161\n",
            "[2,    40] loss: 1.138\n",
            "[2,    50] loss: 1.171\n",
            "[2,    60] loss: 1.133\n",
            "[2,    70] loss: 1.043\n",
            "[2,    80] loss: 1.090\n",
            "[2,    90] loss: 1.076\n",
            "[2,   100] loss: 1.069\n",
            "[2,   110] loss: 1.182\n",
            "[2,   120] loss: 1.167\n",
            "[2,   130] loss: 1.163\n",
            "[2,   140] loss: 1.122\n",
            "[2,   150] loss: 1.248\n",
            "[2,   160] loss: 1.060\n",
            "[2,   170] loss: 1.176\n",
            "[2,   180] loss: 1.152\n",
            "[2,   190] loss: 1.212\n",
            "[2,   200] loss: 1.065\n",
            "[2,   210] loss: 1.077\n",
            "[2,   220] loss: 1.139\n",
            "[2,   230] loss: 1.123\n",
            "[2,   240] loss: 1.144\n",
            "[2,   250] loss: 1.026\n",
            "[2,   260] loss: 1.111\n",
            "[2,   270] loss: 1.159\n",
            "[2,   280] loss: 1.153\n",
            "[2,   290] loss: 1.077\n",
            "[2,   300] loss: 1.216\n",
            "[2,   310] loss: 1.196\n",
            "[2,   320] loss: 1.196\n",
            "[2,   330] loss: 1.086\n",
            "[2,   340] loss: 1.132\n",
            "[2,   350] loss: 1.054\n",
            "[2,   360] loss: 1.098\n",
            "[2,   370] loss: 1.125\n",
            "[2,   380] loss: 1.105\n",
            "[2,   390] loss: 1.038\n",
            "[2,   400] loss: 1.081\n",
            "[2,   410] loss: 1.161\n",
            "[2,   420] loss: 1.065\n",
            "[2,   430] loss: 1.088\n",
            "[2,   440] loss: 1.060\n",
            "[2,   450] loss: 1.141\n",
            "[2,   460] loss: 1.095\n",
            "[2,   470] loss: 1.143\n",
            "[2,   480] loss: 1.079\n",
            "[2,   490] loss: 1.104\n",
            "[2,   500] loss: 1.218\n",
            "[2,   510] loss: 1.145\n",
            "[2,   520] loss: 1.111\n",
            "[2,   530] loss: 1.027\n",
            "[2,   540] loss: 1.134\n",
            "[2,   550] loss: 1.016\n",
            "[2,   560] loss: 1.220\n",
            "[2,   570] loss: 1.102\n",
            "[2,   580] loss: 1.089\n",
            "[2,   590] loss: 1.128\n",
            "[2,   600] loss: 1.161\n",
            "[3,    10] loss: 1.006\n",
            "[3,    20] loss: 0.936\n",
            "[3,    30] loss: 1.065\n",
            "[3,    40] loss: 0.951\n",
            "[3,    50] loss: 0.931\n",
            "[3,    60] loss: 0.953\n",
            "[3,    70] loss: 0.927\n",
            "[3,    80] loss: 0.916\n",
            "[3,    90] loss: 0.955\n",
            "[3,   100] loss: 0.963\n",
            "[3,   110] loss: 1.015\n",
            "[3,   120] loss: 0.975\n",
            "[3,   130] loss: 0.912\n",
            "[3,   140] loss: 0.919\n",
            "[3,   150] loss: 0.958\n",
            "[3,   160] loss: 0.993\n",
            "[3,   170] loss: 0.898\n",
            "[3,   180] loss: 0.891\n",
            "[3,   190] loss: 0.954\n",
            "[3,   200] loss: 0.907\n",
            "[3,   210] loss: 1.001\n",
            "[3,   220] loss: 0.987\n",
            "[3,   230] loss: 0.925\n",
            "[3,   240] loss: 0.834\n",
            "[3,   250] loss: 0.948\n",
            "[3,   260] loss: 0.920\n",
            "[3,   270] loss: 0.922\n",
            "[3,   280] loss: 0.941\n",
            "[3,   290] loss: 0.962\n",
            "[3,   300] loss: 1.020\n",
            "[3,   310] loss: 0.958\n",
            "[3,   320] loss: 1.002\n",
            "[3,   330] loss: 1.008\n",
            "[3,   340] loss: 0.954\n",
            "[3,   350] loss: 0.880\n",
            "[3,   360] loss: 1.003\n",
            "[3,   370] loss: 0.983\n",
            "[3,   380] loss: 0.926\n",
            "[3,   390] loss: 0.852\n",
            "[3,   400] loss: 0.896\n",
            "[3,   410] loss: 0.908\n",
            "[3,   420] loss: 0.840\n",
            "[3,   430] loss: 0.860\n",
            "[3,   440] loss: 0.855\n",
            "[3,   450] loss: 0.908\n",
            "[3,   460] loss: 0.901\n",
            "[3,   470] loss: 0.899\n",
            "[3,   480] loss: 1.011\n",
            "[3,   490] loss: 0.986\n",
            "[3,   500] loss: 0.919\n",
            "[3,   510] loss: 0.948\n",
            "[3,   520] loss: 0.897\n",
            "[3,   530] loss: 0.937\n",
            "[3,   540] loss: 0.950\n",
            "[3,   550] loss: 0.909\n",
            "[3,   560] loss: 0.969\n",
            "[3,   570] loss: 0.872\n",
            "[3,   580] loss: 0.889\n",
            "[3,   590] loss: 0.930\n",
            "[3,   600] loss: 0.955\n",
            "[4,    10] loss: 0.775\n",
            "[4,    20] loss: 0.811\n",
            "[4,    30] loss: 0.768\n",
            "[4,    40] loss: 0.763\n",
            "[4,    50] loss: 0.809\n",
            "[4,    60] loss: 0.759\n",
            "[4,    70] loss: 0.851\n",
            "[4,    80] loss: 0.808\n",
            "[4,    90] loss: 0.749\n",
            "[4,   100] loss: 0.791\n",
            "[4,   110] loss: 0.732\n",
            "[4,   120] loss: 0.820\n",
            "[4,   130] loss: 0.782\n",
            "[4,   140] loss: 0.810\n",
            "[4,   150] loss: 0.749\n",
            "[4,   160] loss: 0.757\n",
            "[4,   170] loss: 0.815\n",
            "[4,   180] loss: 0.749\n",
            "[4,   190] loss: 0.753\n",
            "[4,   200] loss: 0.766\n",
            "[4,   210] loss: 0.838\n",
            "[4,   220] loss: 0.814\n",
            "[4,   230] loss: 0.800\n",
            "[4,   240] loss: 0.848\n",
            "[4,   250] loss: 0.852\n",
            "[4,   260] loss: 0.859\n",
            "[4,   270] loss: 0.789\n",
            "[4,   280] loss: 0.815\n",
            "[4,   290] loss: 0.747\n",
            "[4,   300] loss: 0.835\n",
            "[4,   310] loss: 0.845\n",
            "[4,   320] loss: 0.843\n",
            "[4,   330] loss: 0.802\n",
            "[4,   340] loss: 0.762\n",
            "[4,   350] loss: 0.810\n",
            "[4,   360] loss: 0.795\n",
            "[4,   370] loss: 0.764\n",
            "[4,   380] loss: 0.749\n",
            "[4,   390] loss: 0.755\n",
            "[4,   400] loss: 0.788\n",
            "[4,   410] loss: 0.776\n",
            "[4,   420] loss: 0.698\n",
            "[4,   430] loss: 0.908\n",
            "[4,   440] loss: 0.833\n",
            "[4,   450] loss: 0.898\n",
            "[4,   460] loss: 0.827\n",
            "[4,   470] loss: 0.768\n",
            "[4,   480] loss: 0.865\n",
            "[4,   490] loss: 0.838\n",
            "[4,   500] loss: 0.862\n",
            "[4,   510] loss: 0.831\n",
            "[4,   520] loss: 0.889\n",
            "[4,   530] loss: 0.782\n",
            "[4,   540] loss: 0.793\n",
            "[4,   550] loss: 0.807\n",
            "[4,   560] loss: 0.827\n",
            "[4,   570] loss: 0.856\n",
            "[4,   580] loss: 0.782\n",
            "[4,   590] loss: 0.947\n",
            "[4,   600] loss: 0.754\n"
          ],
          "name": "stdout"
        }
      ]
    },
    {
      "cell_type": "code",
      "metadata": {
        "colab": {
          "base_uri": "https://localhost:8080/",
          "height": 282
        },
        "id": "mZrjDtDc7tZn",
        "outputId": "bdad6c1d-2e98-4abd-a584-dd4b1fa9dd38"
      },
      "source": [
        "def smooth(x, size):\n",
        "  return np.convolve(x, np.ones(size)/size, mode='valid')\n",
        "plt.plot(smooth(losses,50))"
      ],
      "execution_count": null,
      "outputs": [
        {
          "output_type": "execute_result",
          "data": {
            "text/plain": [
              "[<matplotlib.lines.Line2D at 0x7f2c839bfa50>]"
            ]
          },
          "metadata": {
            "tags": []
          },
          "execution_count": 65
        },
        {
          "output_type": "display_data",
          "data": {
            "image/png": "[encoded data removed]",
            "text/plain": [
              "<Figure size 432x288 with 1 Axes>"
            ]
          },
          "metadata": {
            "tags": [],
            "needs_background": "light"
          }
        }
      ]
    },
    {
      "cell_type": "code",
      "metadata": {
        "id": "A0Kt8FmroBD1"
      },
      "source": [
        "def accuracy(net, dataloader):\n",
        "  net.to(device)\n",
        "  net.eval()\n",
        "  correct = 0\n",
        "  total = 0\n",
        "  with torch.no_grad():\n",
        "      for batch in dataloader:\n",
        "          images, labels = batch[0].to(device), batch[1].to(device)\n",
        "          outputs = net(images)\n",
        "          _, predicted = torch.max(outputs.data, 1)\n",
        "          total += labels.size(0)\n",
        "          correct += (predicted == labels).sum().item()\n",
        "  return correct/total"
      ],
      "execution_count": null,
      "outputs": []
    },
    {
      "cell_type": "code",
      "metadata": {
        "colab": {
          "base_uri": "https://localhost:8080/",
          "height": 370
        },
        "id": "pAUIQEiFoD9V",
        "outputId": "2aa9e4de-8b54-41ca-f10b-32d8992d4dc7"
      },
      "source": [
        "print(\"Training accuracy: %f\" % accuracy(resnet, data['train']))\n",
        "print(\"Testing  accuracy: %f\" % accuracy(resnet, data['test']))"
      ],
      "execution_count": null,
      "outputs": [
        {
          "output_type": "stream",
          "text": [
            "Training accuracy: 0.777008\n"
          ],
          "name": "stdout"
        },
        {
          "output_type": "error",
          "ename": "KeyboardInterrupt",
          "evalue": "ignored",
          "traceback": [
            "\u001b[0;31m---------------------------------------------------------------------------\u001b[0m",
            "\u001b[0;31mKeyboardInterrupt\u001b[0m                         Traceback (most recent call last)",
            "\u001b[0;32m<ipython-input-67-0302f5c88c85>\u001b[0m in \u001b[0;36m<module>\u001b[0;34m()\u001b[0m\n\u001b[1;32m      1\u001b[0m \u001b[0mprint\u001b[0m\u001b[0;34m(\u001b[0m\u001b[0;34m\"Training accuracy: %f\"\u001b[0m \u001b[0;34m%\u001b[0m \u001b[0maccuracy\u001b[0m\u001b[0;34m(\u001b[0m\u001b[0mresnet\u001b[0m\u001b[0;34m,\u001b[0m \u001b[0mdata\u001b[0m\u001b[0;34m[\u001b[0m\u001b[0;34m'train'\u001b[0m\u001b[0;34m]\u001b[0m\u001b[0;34m)\u001b[0m\u001b[0;34m)\u001b[0m\u001b[0;34m\u001b[0m\u001b[0;34m\u001b[0m\u001b[0m\n\u001b[0;32m----> 2\u001b[0;31m \u001b[0mprint\u001b[0m\u001b[0;34m(\u001b[0m\u001b[0;34m\"Testing  accuracy: %f\"\u001b[0m \u001b[0;34m%\u001b[0m \u001b[0maccuracy\u001b[0m\u001b[0;34m(\u001b[0m\u001b[0mresnet\u001b[0m\u001b[0;34m,\u001b[0m \u001b[0mdata\u001b[0m\u001b[0;34m[\u001b[0m\u001b[0;34m'test'\u001b[0m\u001b[0;34m]\u001b[0m\u001b[0;34m)\u001b[0m\u001b[0;34m)\u001b[0m\u001b[0;34m\u001b[0m\u001b[0;34m\u001b[0m\u001b[0m\n\u001b[0m",
            "\u001b[0;32m<ipython-input-66-2075d56af131>\u001b[0m in \u001b[0;36maccuracy\u001b[0;34m(net, dataloader)\u001b[0m\n\u001b[1;32m      7\u001b[0m       \u001b[0;32mfor\u001b[0m \u001b[0mbatch\u001b[0m \u001b[0;32min\u001b[0m \u001b[0mdataloader\u001b[0m\u001b[0;34m:\u001b[0m\u001b[0;34m\u001b[0m\u001b[0;34m\u001b[0m\u001b[0m\n\u001b[1;32m      8\u001b[0m           \u001b[0mimages\u001b[0m\u001b[0;34m,\u001b[0m \u001b[0mlabels\u001b[0m \u001b[0;34m=\u001b[0m \u001b[0mbatch\u001b[0m\u001b[0;34m[\u001b[0m\u001b[0;36m0\u001b[0m\u001b[0;34m]\u001b[0m\u001b[0;34m.\u001b[0m\u001b[0mto\u001b[0m\u001b[0;34m(\u001b[0m\u001b[0mdevice\u001b[0m\u001b[0;34m)\u001b[0m\u001b[0;34m,\u001b[0m \u001b[0mbatch\u001b[0m\u001b[0;34m[\u001b[0m\u001b[0;36m1\u001b[0m\u001b[0;34m]\u001b[0m\u001b[0;34m.\u001b[0m\u001b[0mto\u001b[0m\u001b[0;34m(\u001b[0m\u001b[0mdevice\u001b[0m\u001b[0;34m)\u001b[0m\u001b[0;34m\u001b[0m\u001b[0;34m\u001b[0m\u001b[0m\n\u001b[0;32m----> 9\u001b[0;31m           \u001b[0moutputs\u001b[0m \u001b[0;34m=\u001b[0m \u001b[0mnet\u001b[0m\u001b[0;34m(\u001b[0m\u001b[0mimages\u001b[0m\u001b[0;34m)\u001b[0m\u001b[0;34m\u001b[0m\u001b[0;34m\u001b[0m\u001b[0m\n\u001b[0m\u001b[1;32m     10\u001b[0m           \u001b[0m_\u001b[0m\u001b[0;34m,\u001b[0m \u001b[0mpredicted\u001b[0m \u001b[0;34m=\u001b[0m \u001b[0mtorch\u001b[0m\u001b[0;34m.\u001b[0m\u001b[0mmax\u001b[0m\u001b[0;34m(\u001b[0m\u001b[0moutputs\u001b[0m\u001b[0;34m.\u001b[0m\u001b[0mdata\u001b[0m\u001b[0;34m,\u001b[0m \u001b[0;36m1\u001b[0m\u001b[0;34m)\u001b[0m\u001b[0;34m\u001b[0m\u001b[0;34m\u001b[0m\u001b[0m\n\u001b[1;32m     11\u001b[0m           \u001b[0mtotal\u001b[0m \u001b[0;34m+=\u001b[0m \u001b[0mlabels\u001b[0m\u001b[0;34m.\u001b[0m\u001b[0msize\u001b[0m\u001b[0;34m(\u001b[0m\u001b[0;36m0\u001b[0m\u001b[0;34m)\u001b[0m\u001b[0;34m\u001b[0m\u001b[0;34m\u001b[0m\u001b[0m\n",
            "\u001b[0;32m/usr/local/lib/python3.7/dist-packages/torch/nn/modules/module.py\u001b[0m in \u001b[0;36m_call_impl\u001b[0;34m(self, *input, **kwargs)\u001b[0m\n\u001b[1;32m    887\u001b[0m             \u001b[0mresult\u001b[0m \u001b[0;34m=\u001b[0m \u001b[0mself\u001b[0m\u001b[0;34m.\u001b[0m\u001b[0m_slow_forward\u001b[0m\u001b[0;34m(\u001b[0m\u001b[0;34m*\u001b[0m\u001b[0minput\u001b[0m\u001b[0;34m,\u001b[0m \u001b[0;34m**\u001b[0m\u001b[0mkwargs\u001b[0m\u001b[0;34m)\u001b[0m\u001b[0;34m\u001b[0m\u001b[0;34m\u001b[0m\u001b[0m\n\u001b[1;32m    888\u001b[0m         \u001b[0;32melse\u001b[0m\u001b[0;34m:\u001b[0m\u001b[0;34m\u001b[0m\u001b[0;34m\u001b[0m\u001b[0m\n\u001b[0;32m--> 889\u001b[0;31m             \u001b[0mresult\u001b[0m \u001b[0;34m=\u001b[0m \u001b[0mself\u001b[0m\u001b[0;34m.\u001b[0m\u001b[0mforward\u001b[0m\u001b[0;34m(\u001b[0m\u001b[0;34m*\u001b[0m\u001b[0minput\u001b[0m\u001b[0;34m,\u001b[0m \u001b[0;34m**\u001b[0m\u001b[0mkwargs\u001b[0m\u001b[0;34m)\u001b[0m\u001b[0;34m\u001b[0m\u001b[0;34m\u001b[0m\u001b[0m\n\u001b[0m\u001b[1;32m    890\u001b[0m         for hook in itertools.chain(\n\u001b[1;32m    891\u001b[0m                 \u001b[0m_global_forward_hooks\u001b[0m\u001b[0;34m.\u001b[0m\u001b[0mvalues\u001b[0m\u001b[0;34m(\u001b[0m\u001b[0;34m)\u001b[0m\u001b[0;34m,\u001b[0m\u001b[0;34m\u001b[0m\u001b[0;34m\u001b[0m\u001b[0m\n",
            "\u001b[0;32m/usr/local/lib/python3.7/dist-packages/torchvision/models/resnet.py\u001b[0m in \u001b[0;36mforward\u001b[0;34m(self, x)\u001b[0m\n\u001b[1;32m    247\u001b[0m \u001b[0;34m\u001b[0m\u001b[0m\n\u001b[1;32m    248\u001b[0m     \u001b[0;32mdef\u001b[0m \u001b[0mforward\u001b[0m\u001b[0;34m(\u001b[0m\u001b[0mself\u001b[0m\u001b[0;34m,\u001b[0m \u001b[0mx\u001b[0m\u001b[0;34m:\u001b[0m \u001b[0mTensor\u001b[0m\u001b[0;34m)\u001b[0m \u001b[0;34m->\u001b[0m \u001b[0mTensor\u001b[0m\u001b[0;34m:\u001b[0m\u001b[0;34m\u001b[0m\u001b[0;34m\u001b[0m\u001b[0m\n\u001b[0;32m--> 249\u001b[0;31m         \u001b[0;32mreturn\u001b[0m \u001b[0mself\u001b[0m\u001b[0;34m.\u001b[0m\u001b[0m_forward_impl\u001b[0m\u001b[0;34m(\u001b[0m\u001b[0mx\u001b[0m\u001b[0;34m)\u001b[0m\u001b[0;34m\u001b[0m\u001b[0;34m\u001b[0m\u001b[0m\n\u001b[0m\u001b[1;32m    250\u001b[0m \u001b[0;34m\u001b[0m\u001b[0m\n\u001b[1;32m    251\u001b[0m \u001b[0;34m\u001b[0m\u001b[0m\n",
            "\u001b[0;32m/usr/local/lib/python3.7/dist-packages/torchvision/models/resnet.py\u001b[0m in \u001b[0;36m_forward_impl\u001b[0;34m(self, x)\u001b[0m\n\u001b[1;32m    237\u001b[0m         \u001b[0mx\u001b[0m \u001b[0;34m=\u001b[0m \u001b[0mself\u001b[0m\u001b[0;34m.\u001b[0m\u001b[0mlayer1\u001b[0m\u001b[0;34m(\u001b[0m\u001b[0mx\u001b[0m\u001b[0;34m)\u001b[0m\u001b[0;34m\u001b[0m\u001b[0;34m\u001b[0m\u001b[0m\n\u001b[1;32m    238\u001b[0m         \u001b[0mx\u001b[0m \u001b[0;34m=\u001b[0m \u001b[0mself\u001b[0m\u001b[0;34m.\u001b[0m\u001b[0mlayer2\u001b[0m\u001b[0;34m(\u001b[0m\u001b[0mx\u001b[0m\u001b[0;34m)\u001b[0m\u001b[0;34m\u001b[0m\u001b[0;34m\u001b[0m\u001b[0m\n\u001b[0;32m--> 239\u001b[0;31m         \u001b[0mx\u001b[0m \u001b[0;34m=\u001b[0m \u001b[0mself\u001b[0m\u001b[0;34m.\u001b[0m\u001b[0mlayer3\u001b[0m\u001b[0;34m(\u001b[0m\u001b[0mx\u001b[0m\u001b[0;34m)\u001b[0m\u001b[0;34m\u001b[0m\u001b[0;34m\u001b[0m\u001b[0m\n\u001b[0m\u001b[1;32m    240\u001b[0m         \u001b[0mx\u001b[0m \u001b[0;34m=\u001b[0m \u001b[0mself\u001b[0m\u001b[0;34m.\u001b[0m\u001b[0mlayer4\u001b[0m\u001b[0;34m(\u001b[0m\u001b[0mx\u001b[0m\u001b[0;34m)\u001b[0m\u001b[0;34m\u001b[0m\u001b[0;34m\u001b[0m\u001b[0m\n\u001b[1;32m    241\u001b[0m \u001b[0;34m\u001b[0m\u001b[0m\n",
            "\u001b[0;32m/usr/local/lib/python3.7/dist-packages/torch/nn/modules/module.py\u001b[0m in \u001b[0;36m_call_impl\u001b[0;34m(self, *input, **kwargs)\u001b[0m\n\u001b[1;32m    887\u001b[0m             \u001b[0mresult\u001b[0m \u001b[0;34m=\u001b[0m \u001b[0mself\u001b[0m\u001b[0;34m.\u001b[0m\u001b[0m_slow_forward\u001b[0m\u001b[0;34m(\u001b[0m\u001b[0;34m*\u001b[0m\u001b[0minput\u001b[0m\u001b[0;34m,\u001b[0m \u001b[0;34m**\u001b[0m\u001b[0mkwargs\u001b[0m\u001b[0;34m)\u001b[0m\u001b[0;34m\u001b[0m\u001b[0;34m\u001b[0m\u001b[0m\n\u001b[1;32m    888\u001b[0m         \u001b[0;32melse\u001b[0m\u001b[0;34m:\u001b[0m\u001b[0;34m\u001b[0m\u001b[0;34m\u001b[0m\u001b[0m\n\u001b[0;32m--> 889\u001b[0;31m             \u001b[0mresult\u001b[0m \u001b[0;34m=\u001b[0m \u001b[0mself\u001b[0m\u001b[0;34m.\u001b[0m\u001b[0mforward\u001b[0m\u001b[0;34m(\u001b[0m\u001b[0;34m*\u001b[0m\u001b[0minput\u001b[0m\u001b[0;34m,\u001b[0m \u001b[0;34m**\u001b[0m\u001b[0mkwargs\u001b[0m\u001b[0;34m)\u001b[0m\u001b[0;34m\u001b[0m\u001b[0;34m\u001b[0m\u001b[0m\n\u001b[0m\u001b[1;32m    890\u001b[0m         for hook in itertools.chain(\n\u001b[1;32m    891\u001b[0m                 \u001b[0m_global_forward_hooks\u001b[0m\u001b[0;34m.\u001b[0m\u001b[0mvalues\u001b[0m\u001b[0;34m(\u001b[0m\u001b[0;34m)\u001b[0m\u001b[0;34m,\u001b[0m\u001b[0;34m\u001b[0m\u001b[0;34m\u001b[0m\u001b[0m\n",
            "\u001b[0;32m/usr/local/lib/python3.7/dist-packages/torch/nn/modules/container.py\u001b[0m in \u001b[0;36mforward\u001b[0;34m(self, input)\u001b[0m\n\u001b[1;32m    117\u001b[0m     \u001b[0;32mdef\u001b[0m \u001b[0mforward\u001b[0m\u001b[0;34m(\u001b[0m\u001b[0mself\u001b[0m\u001b[0;34m,\u001b[0m \u001b[0minput\u001b[0m\u001b[0;34m)\u001b[0m\u001b[0;34m:\u001b[0m\u001b[0;34m\u001b[0m\u001b[0;34m\u001b[0m\u001b[0m\n\u001b[1;32m    118\u001b[0m         \u001b[0;32mfor\u001b[0m \u001b[0mmodule\u001b[0m \u001b[0;32min\u001b[0m \u001b[0mself\u001b[0m\u001b[0;34m:\u001b[0m\u001b[0;34m\u001b[0m\u001b[0;34m\u001b[0m\u001b[0m\n\u001b[0;32m--> 119\u001b[0;31m             \u001b[0minput\u001b[0m \u001b[0;34m=\u001b[0m \u001b[0mmodule\u001b[0m\u001b[0;34m(\u001b[0m\u001b[0minput\u001b[0m\u001b[0;34m)\u001b[0m\u001b[0;34m\u001b[0m\u001b[0;34m\u001b[0m\u001b[0m\n\u001b[0m\u001b[1;32m    120\u001b[0m         \u001b[0;32mreturn\u001b[0m \u001b[0minput\u001b[0m\u001b[0;34m\u001b[0m\u001b[0;34m\u001b[0m\u001b[0m\n\u001b[1;32m    121\u001b[0m \u001b[0;34m\u001b[0m\u001b[0m\n",
            "\u001b[0;32m/usr/local/lib/python3.7/dist-packages/torch/nn/modules/module.py\u001b[0m in \u001b[0;36m_call_impl\u001b[0;34m(self, *input, **kwargs)\u001b[0m\n\u001b[1;32m    887\u001b[0m             \u001b[0mresult\u001b[0m \u001b[0;34m=\u001b[0m \u001b[0mself\u001b[0m\u001b[0;34m.\u001b[0m\u001b[0m_slow_forward\u001b[0m\u001b[0;34m(\u001b[0m\u001b[0;34m*\u001b[0m\u001b[0minput\u001b[0m\u001b[0;34m,\u001b[0m \u001b[0;34m**\u001b[0m\u001b[0mkwargs\u001b[0m\u001b[0;34m)\u001b[0m\u001b[0;34m\u001b[0m\u001b[0;34m\u001b[0m\u001b[0m\n\u001b[1;32m    888\u001b[0m         \u001b[0;32melse\u001b[0m\u001b[0;34m:\u001b[0m\u001b[0;34m\u001b[0m\u001b[0;34m\u001b[0m\u001b[0m\n\u001b[0;32m--> 889\u001b[0;31m             \u001b[0mresult\u001b[0m \u001b[0;34m=\u001b[0m \u001b[0mself\u001b[0m\u001b[0;34m.\u001b[0m\u001b[0mforward\u001b[0m\u001b[0;34m(\u001b[0m\u001b[0;34m*\u001b[0m\u001b[0minput\u001b[0m\u001b[0;34m,\u001b[0m \u001b[0;34m**\u001b[0m\u001b[0mkwargs\u001b[0m\u001b[0;34m)\u001b[0m\u001b[0;34m\u001b[0m\u001b[0;34m\u001b[0m\u001b[0m\n\u001b[0m\u001b[1;32m    890\u001b[0m         for hook in itertools.chain(\n\u001b[1;32m    891\u001b[0m                 \u001b[0m_global_forward_hooks\u001b[0m\u001b[0;34m.\u001b[0m\u001b[0mvalues\u001b[0m\u001b[0;34m(\u001b[0m\u001b[0;34m)\u001b[0m\u001b[0;34m,\u001b[0m\u001b[0;34m\u001b[0m\u001b[0;34m\u001b[0m\u001b[0m\n",
            "\u001b[0;32m/usr/local/lib/python3.7/dist-packages/torchvision/models/resnet.py\u001b[0m in \u001b[0;36mforward\u001b[0;34m(self, x)\u001b[0m\n\u001b[1;32m    123\u001b[0m \u001b[0;34m\u001b[0m\u001b[0m\n\u001b[1;32m    124\u001b[0m         \u001b[0mout\u001b[0m \u001b[0;34m=\u001b[0m \u001b[0mself\u001b[0m\u001b[0;34m.\u001b[0m\u001b[0mconv1\u001b[0m\u001b[0;34m(\u001b[0m\u001b[0mx\u001b[0m\u001b[0;34m)\u001b[0m\u001b[0;34m\u001b[0m\u001b[0;34m\u001b[0m\u001b[0m\n\u001b[0;32m--> 125\u001b[0;31m         \u001b[0mout\u001b[0m \u001b[0;34m=\u001b[0m \u001b[0mself\u001b[0m\u001b[0;34m.\u001b[0m\u001b[0mbn1\u001b[0m\u001b[0;34m(\u001b[0m\u001b[0mout\u001b[0m\u001b[0;34m)\u001b[0m\u001b[0;34m\u001b[0m\u001b[0;34m\u001b[0m\u001b[0m\n\u001b[0m\u001b[1;32m    126\u001b[0m         \u001b[0mout\u001b[0m \u001b[0;34m=\u001b[0m \u001b[0mself\u001b[0m\u001b[0;34m.\u001b[0m\u001b[0mrelu\u001b[0m\u001b[0;34m(\u001b[0m\u001b[0mout\u001b[0m\u001b[0;34m)\u001b[0m\u001b[0;34m\u001b[0m\u001b[0;34m\u001b[0m\u001b[0m\n\u001b[1;32m    127\u001b[0m \u001b[0;34m\u001b[0m\u001b[0m\n",
            "\u001b[0;32m/usr/local/lib/python3.7/dist-packages/torch/nn/modules/module.py\u001b[0m in \u001b[0;36m_call_impl\u001b[0;34m(self, *input, **kwargs)\u001b[0m\n\u001b[1;32m    887\u001b[0m             \u001b[0mresult\u001b[0m \u001b[0;34m=\u001b[0m \u001b[0mself\u001b[0m\u001b[0;34m.\u001b[0m\u001b[0m_slow_forward\u001b[0m\u001b[0;34m(\u001b[0m\u001b[0;34m*\u001b[0m\u001b[0minput\u001b[0m\u001b[0;34m,\u001b[0m \u001b[0;34m**\u001b[0m\u001b[0mkwargs\u001b[0m\u001b[0;34m)\u001b[0m\u001b[0;34m\u001b[0m\u001b[0;34m\u001b[0m\u001b[0m\n\u001b[1;32m    888\u001b[0m         \u001b[0;32melse\u001b[0m\u001b[0;34m:\u001b[0m\u001b[0;34m\u001b[0m\u001b[0;34m\u001b[0m\u001b[0m\n\u001b[0;32m--> 889\u001b[0;31m             \u001b[0mresult\u001b[0m \u001b[0;34m=\u001b[0m \u001b[0mself\u001b[0m\u001b[0;34m.\u001b[0m\u001b[0mforward\u001b[0m\u001b[0;34m(\u001b[0m\u001b[0;34m*\u001b[0m\u001b[0minput\u001b[0m\u001b[0;34m,\u001b[0m \u001b[0;34m**\u001b[0m\u001b[0mkwargs\u001b[0m\u001b[0;34m)\u001b[0m\u001b[0;34m\u001b[0m\u001b[0;34m\u001b[0m\u001b[0m\n\u001b[0m\u001b[1;32m    890\u001b[0m         for hook in itertools.chain(\n\u001b[1;32m    891\u001b[0m                 \u001b[0m_global_forward_hooks\u001b[0m\u001b[0;34m.\u001b[0m\u001b[0mvalues\u001b[0m\u001b[0;34m(\u001b[0m\u001b[0;34m)\u001b[0m\u001b[0;34m,\u001b[0m\u001b[0;34m\u001b[0m\u001b[0;34m\u001b[0m\u001b[0m\n",
            "\u001b[0;32m/usr/local/lib/python3.7/dist-packages/torch/nn/modules/batchnorm.py\u001b[0m in \u001b[0;36mforward\u001b[0;34m(self, input)\u001b[0m\n\u001b[1;32m    138\u001b[0m             \u001b[0mself\u001b[0m\u001b[0;34m.\u001b[0m\u001b[0mrunning_mean\u001b[0m \u001b[0;32mif\u001b[0m \u001b[0;32mnot\u001b[0m \u001b[0mself\u001b[0m\u001b[0;34m.\u001b[0m\u001b[0mtraining\u001b[0m \u001b[0;32mor\u001b[0m \u001b[0mself\u001b[0m\u001b[0;34m.\u001b[0m\u001b[0mtrack_running_stats\u001b[0m \u001b[0;32melse\u001b[0m \u001b[0;32mNone\u001b[0m\u001b[0;34m,\u001b[0m\u001b[0;34m\u001b[0m\u001b[0;34m\u001b[0m\u001b[0m\n\u001b[1;32m    139\u001b[0m             \u001b[0mself\u001b[0m\u001b[0;34m.\u001b[0m\u001b[0mrunning_var\u001b[0m \u001b[0;32mif\u001b[0m \u001b[0;32mnot\u001b[0m \u001b[0mself\u001b[0m\u001b[0;34m.\u001b[0m\u001b[0mtraining\u001b[0m \u001b[0;32mor\u001b[0m \u001b[0mself\u001b[0m\u001b[0;34m.\u001b[0m\u001b[0mtrack_running_stats\u001b[0m \u001b[0;32melse\u001b[0m \u001b[0;32mNone\u001b[0m\u001b[0;34m,\u001b[0m\u001b[0;34m\u001b[0m\u001b[0;34m\u001b[0m\u001b[0m\n\u001b[0;32m--> 140\u001b[0;31m             self.weight, self.bias, bn_training, exponential_average_factor, self.eps)\n\u001b[0m\u001b[1;32m    141\u001b[0m \u001b[0;34m\u001b[0m\u001b[0m\n\u001b[1;32m    142\u001b[0m \u001b[0;34m\u001b[0m\u001b[0m\n",
            "\u001b[0;32m/usr/local/lib/python3.7/dist-packages/torch/nn/functional.py\u001b[0m in \u001b[0;36mbatch_norm\u001b[0;34m(input, running_mean, running_var, weight, bias, training, momentum, eps)\u001b[0m\n\u001b[1;32m   2148\u001b[0m \u001b[0;34m\u001b[0m\u001b[0m\n\u001b[1;32m   2149\u001b[0m     return torch.batch_norm(\n\u001b[0;32m-> 2150\u001b[0;31m         \u001b[0minput\u001b[0m\u001b[0;34m,\u001b[0m \u001b[0mweight\u001b[0m\u001b[0;34m,\u001b[0m \u001b[0mbias\u001b[0m\u001b[0;34m,\u001b[0m \u001b[0mrunning_mean\u001b[0m\u001b[0;34m,\u001b[0m \u001b[0mrunning_var\u001b[0m\u001b[0;34m,\u001b[0m \u001b[0mtraining\u001b[0m\u001b[0;34m,\u001b[0m \u001b[0mmomentum\u001b[0m\u001b[0;34m,\u001b[0m \u001b[0meps\u001b[0m\u001b[0;34m,\u001b[0m \u001b[0mtorch\u001b[0m\u001b[0;34m.\u001b[0m\u001b[0mbackends\u001b[0m\u001b[0;34m.\u001b[0m\u001b[0mcudnn\u001b[0m\u001b[0;34m.\u001b[0m\u001b[0menabled\u001b[0m\u001b[0;34m\u001b[0m\u001b[0;34m\u001b[0m\u001b[0m\n\u001b[0m\u001b[1;32m   2151\u001b[0m     )\n\u001b[1;32m   2152\u001b[0m \u001b[0;34m\u001b[0m\u001b[0m\n",
            "\u001b[0;31mKeyboardInterrupt\u001b[0m: "
          ]
        }
      ]
    },
    {
      "cell_type": "code",
      "metadata": {
        "colab": {
          "base_uri": "https://localhost:8080/"
        },
        "id": "4U6Cmm6q8s56",
        "outputId": "c1978227-f3bc-4678-d189-a4a76a918b56"
      },
      "source": [
        "resnet = torch.hub.load('pytorch/vision:v0.6.0', 'resnet50', pretrained=True)\n",
        "resnet.fc = nn.Linear(2048, 555) # This will reinitialize the layer as well\n",
        "state = torch.load(checkpoints + 'checkpoint-5.pkl')\n",
        "losses = train(resnet, data['train'], epochs=7, schedule={0:.01, 4:.001}, lr=.01, print_every=10, checkpoint_path=checkpoints, state=state)"
      ],
      "execution_count": null,
      "outputs": [
        {
          "output_type": "stream",
          "text": [
            "Using cache found in /root/.cache/torch/hub/pytorch_vision_v0.6.0\n"
          ],
          "name": "stderr"
        },
        {
          "output_type": "stream",
          "text": [
            "Learning rate: 0.010000\n",
            "Learning rate: 0.001000\n",
            "[5,    10] loss: 0.725\n",
            "[5,    20] loss: 0.591\n",
            "[5,    30] loss: 0.663\n",
            "[5,    40] loss: 0.592\n",
            "[5,    50] loss: 0.522\n",
            "[5,    60] loss: 0.512\n",
            "[5,    70] loss: 0.534\n",
            "[5,    80] loss: 0.480\n",
            "[5,    90] loss: 0.583\n",
            "[5,   100] loss: 0.521\n",
            "[5,   110] loss: 0.570\n",
            "[5,   120] loss: 0.466\n",
            "[5,   130] loss: 0.443\n",
            "[5,   140] loss: 0.409\n",
            "[5,   150] loss: 0.458\n",
            "[5,   160] loss: 0.440\n",
            "[5,   170] loss: 0.500\n",
            "[5,   180] loss: 0.496\n",
            "[5,   190] loss: 0.442\n",
            "[5,   200] loss: 0.435\n",
            "[5,   210] loss: 0.458\n",
            "[5,   220] loss: 0.445\n",
            "[5,   230] loss: 0.477\n",
            "[5,   240] loss: 0.375\n",
            "[5,   250] loss: 0.412\n",
            "[5,   260] loss: 0.419\n",
            "[5,   270] loss: 0.393\n",
            "[5,   280] loss: 0.445\n",
            "[5,   290] loss: 0.450\n",
            "[5,   300] loss: 0.393\n",
            "[5,   310] loss: 0.396\n",
            "[5,   320] loss: 0.404\n",
            "[5,   330] loss: 0.415\n",
            "[5,   340] loss: 0.397\n",
            "[5,   350] loss: 0.389\n",
            "[5,   360] loss: 0.445\n",
            "[5,   370] loss: 0.414\n",
            "[5,   380] loss: 0.437\n",
            "[5,   390] loss: 0.384\n",
            "[5,   400] loss: 0.378\n",
            "[5,   410] loss: 0.319\n",
            "[5,   420] loss: 0.363\n",
            "[5,   430] loss: 0.424\n",
            "[5,   440] loss: 0.356\n",
            "[5,   450] loss: 0.345\n",
            "[5,   460] loss: 0.399\n",
            "[5,   470] loss: 0.412\n",
            "[5,   480] loss: 0.427\n",
            "[5,   490] loss: 0.351\n",
            "[5,   500] loss: 0.377\n",
            "[5,   510] loss: 0.429\n",
            "[5,   520] loss: 0.362\n",
            "[5,   530] loss: 0.359\n",
            "[5,   540] loss: 0.432\n",
            "[5,   550] loss: 0.375\n",
            "[5,   560] loss: 0.431\n",
            "[5,   570] loss: 0.358\n",
            "[5,   580] loss: 0.372\n",
            "[5,   590] loss: 0.410\n",
            "[5,   600] loss: 0.377\n",
            "[6,    10] loss: 0.323\n",
            "[6,    20] loss: 0.333\n",
            "[6,    30] loss: 0.366\n",
            "[6,    40] loss: 0.288\n",
            "[6,    50] loss: 0.331\n",
            "[6,    60] loss: 0.386\n",
            "[6,    70] loss: 0.371\n",
            "[6,    80] loss: 0.373\n",
            "[6,    90] loss: 0.360\n",
            "[6,   100] loss: 0.272\n",
            "[6,   110] loss: 0.318\n",
            "[6,   120] loss: 0.326\n",
            "[6,   130] loss: 0.312\n",
            "[6,   140] loss: 0.340\n",
            "[6,   150] loss: 0.323\n",
            "[6,   160] loss: 0.319\n",
            "[6,   170] loss: 0.403\n",
            "[6,   180] loss: 0.299\n",
            "[6,   190] loss: 0.373\n",
            "[6,   200] loss: 0.321\n",
            "[6,   210] loss: 0.326\n",
            "[6,   220] loss: 0.354\n",
            "[6,   230] loss: 0.372\n",
            "[6,   240] loss: 0.324\n",
            "[6,   250] loss: 0.349\n",
            "[6,   260] loss: 0.331\n",
            "[6,   270] loss: 0.307\n",
            "[6,   280] loss: 0.338\n",
            "[6,   290] loss: 0.325\n",
            "[6,   300] loss: 0.305\n",
            "[6,   310] loss: 0.323\n",
            "[6,   320] loss: 0.347\n",
            "[6,   330] loss: 0.342\n",
            "[6,   340] loss: 0.334\n",
            "[6,   350] loss: 0.357\n",
            "[6,   360] loss: 0.402\n",
            "[6,   370] loss: 0.296\n",
            "[6,   380] loss: 0.345\n",
            "[6,   390] loss: 0.298\n",
            "[6,   400] loss: 0.334\n",
            "[6,   410] loss: 0.358\n",
            "[6,   420] loss: 0.307\n",
            "[6,   430] loss: 0.334\n",
            "[6,   440] loss: 0.325\n",
            "[6,   450] loss: 0.305\n",
            "[6,   460] loss: 0.343\n",
            "[6,   470] loss: 0.376\n",
            "[6,   480] loss: 0.353\n",
            "[6,   490] loss: 0.342\n",
            "[6,   500] loss: 0.356\n",
            "[6,   510] loss: 0.356\n",
            "[6,   520] loss: 0.363\n",
            "[6,   530] loss: 0.317\n",
            "[6,   540] loss: 0.353\n",
            "[6,   550] loss: 0.357\n",
            "[6,   560] loss: 0.385\n",
            "[6,   570] loss: 0.299\n",
            "[6,   580] loss: 0.333\n",
            "[6,   590] loss: 0.341\n",
            "[6,   600] loss: 0.350\n"
          ],
          "name": "stdout"
        }
      ]
    },
    {
      "cell_type": "code",
      "metadata": {
        "colab": {
          "base_uri": "https://localhost:8080/",
          "height": 282
        },
        "id": "GZrGQEThDJiP",
        "outputId": "ffa75985-e34c-4ed4-888d-4b56a8e51d08"
      },
      "source": [
        "plt.plot(smooth(losses,50))"
      ],
      "execution_count": null,
      "outputs": [
        {
          "output_type": "execute_result",
          "data": {
            "text/plain": [
              "[<matplotlib.lines.Line2D at 0x7f2c837ce910>]"
            ]
          },
          "metadata": {
            "tags": []
          },
          "execution_count": 70
        },
        {
          "output_type": "display_data",
          "data": {
            "image/png": "[encoded data removed]",
            "text/plain": [
              "<Figure size 432x288 with 1 Axes>"
            ]
          },
          "metadata": {
            "tags": [],
            "needs_background": "light"
          }
        }
      ]
    },
    {
      "cell_type": "code",
      "metadata": {
        "colab": {
          "base_uri": "https://localhost:8080/"
        },
        "id": "mO-TgKv_DnHb",
        "outputId": "866d5a91-5d6c-4e29-82ad-3f636895e966"
      },
      "source": [
        "print(\"Training accuracy: %f\" % accuracy(resnet, data['train']))"
      ],
      "execution_count": null,
      "outputs": [
        {
          "output_type": "stream",
          "text": [
            "Training accuracy: 0.940045\n"
          ],
          "name": "stdout"
        }
      ]
    },
    {
      "cell_type": "markdown",
      "metadata": {
        "id": "Q1G3PatLWMZ6"
      },
      "source": [
        "# Predict"
      ]
    },
    {
      "cell_type": "code",
      "metadata": {
        "id": "YH3jOjwkvAZN"
      },
      "source": [
        "def predict(net, dataloader, ofname):\n",
        "    out = open(ofname, 'w')\n",
        "    out.write(\"path,class\\n\")\n",
        "    net.to(device)\n",
        "    net.eval()\n",
        "    correct = 0\n",
        "    total = 0\n",
        "    with torch.no_grad():\n",
        "        for i, (images, labels) in enumerate(dataloader, 0):\n",
        "            if i%100 == 0:\n",
        "                print(i)\n",
        "            images, labels = images.to(device), labels.to(device)\n",
        "            outputs = net(images)\n",
        "            _, predicted = torch.max(outputs.data, 1)\n",
        "            fname, _ = dataloader.dataset.samples[i]\n",
        "            out.write(\"test/{},{}\\n\".format(fname.split('/')[-1], data['to_class'][predicted.item()]))\n",
        "    out.close()"
      ],
      "execution_count": null,
      "outputs": []
    },
    {
      "cell_type": "code",
      "metadata": {
        "colab": {
          "base_uri": "https://localhost:8080/"
        },
        "id": "oDRUfP-q1ezY",
        "outputId": "25fea56c-31ad-427b-f686-4a853beb6b6f"
      },
      "source": [
        "predict(resnet, data['test'], checkpoints + \"preds.csv\")"
      ],
      "execution_count": null,
      "outputs": [
        {
          "output_type": "stream",
          "text": [
            "0\n",
            "100\n",
            "200\n",
            "300\n",
            "400\n",
            "500\n",
            "600\n",
            "700\n",
            "800\n",
            "900\n",
            "1000\n",
            "1100\n",
            "1200\n",
            "1300\n",
            "1400\n",
            "1500\n",
            "1600\n",
            "1700\n",
            "1800\n",
            "1900\n",
            "2000\n",
            "2100\n",
            "2200\n",
            "2300\n",
            "2400\n",
            "2500\n",
            "2600\n",
            "2700\n",
            "2800\n",
            "2900\n",
            "3000\n",
            "3100\n",
            "3200\n",
            "3300\n",
            "3400\n",
            "3500\n",
            "3600\n",
            "3700\n",
            "3800\n",
            "3900\n",
            "4000\n",
            "4100\n",
            "4200\n",
            "4300\n",
            "4400\n",
            "4500\n",
            "4600\n",
            "4700\n",
            "4800\n",
            "4900\n",
            "5000\n",
            "5100\n",
            "5200\n",
            "5300\n",
            "5400\n",
            "5500\n",
            "5600\n",
            "5700\n",
            "5800\n",
            "5900\n",
            "6000\n",
            "6100\n",
            "6200\n",
            "6300\n",
            "6400\n",
            "6500\n",
            "6600\n",
            "6700\n",
            "6800\n",
            "6900\n",
            "7000\n",
            "7100\n",
            "7200\n",
            "7300\n",
            "7400\n",
            "7500\n",
            "7600\n",
            "7700\n",
            "7800\n",
            "7900\n",
            "8000\n",
            "8100\n",
            "8200\n",
            "8300\n",
            "8400\n",
            "8500\n",
            "8600\n",
            "8700\n",
            "8800\n",
            "8900\n",
            "9000\n",
            "9100\n",
            "9200\n",
            "9300\n",
            "9400\n",
            "9500\n",
            "9600\n",
            "9700\n",
            "9800\n",
            "9900\n"
          ],
          "name": "stdout"
        }
      ]
    },
    {
      "cell_type": "code",
      "metadata": {
        "id": "ycryJd7gEHKW"
      },
      "source": [
        "# Load model from checkpoint\n",
        "resnet = torch.hub.load('pytorch/vision:v0.6.0', 'resnet50', pretrained=True)\n",
        "resnet.fc = nn.Linear(2048, 555) # This will reinitialize the layer as well\n",
        "state = torch.load(checkpoints + 'checkpoint-7.pkl')\n",
        "resnet.load_state_dict(state['net'])\n",
        "\n",
        "\n",
        "predict(resnet, data['test'], checkpoints + \"preds.csv\")"
      ],
      "execution_count": null,
      "outputs": []
    },
    {
      "cell_type": "markdown",
      "metadata": {
        "id": "dwzAI8Mh_Dal"
      },
      "source": [
        "# Validation (unused)"
      ]
    },
    {
      "cell_type": "markdown",
      "metadata": {
        "id": "sNR3FMQF_OWD"
      },
      "source": [
        "We wrote code to make a validation test, but ended up not actually using it for final version (didn't want to retrain everything again)"
      ]
    },
    {
      "cell_type": "code",
      "metadata": {
        "id": "DKXg2-g5_H-Q"
      },
      "source": [
        "# make validation folder and all the subdirectories (0-554 for each bird type)\n",
        "if not os.path.exists('validation'):\n",
        "  !mkdir validation\n",
        "  os.chdir('validation')\n",
        "  !for ((i = 0; i < 555; i++)); do mkdir $i; done\n",
        "  os.chdir('..')"
      ],
      "execution_count": null,
      "outputs": []
    },
    {
      "cell_type": "code",
      "metadata": {
        "id": "-Rx7GPNd_KcI"
      },
      "source": [
        "# randomly move a few random files from training set to validation \n",
        "os.chdir('train')\n",
        "!for ((i = 0; i < 555; i++)); do cd $i; ls | shuf -n 3 | xargs -i mv {} ../../validation/$i; cd ..; done\n",
        "os.chdir('..')"
      ],
      "execution_count": null,
      "outputs": []
    }
  ]
}